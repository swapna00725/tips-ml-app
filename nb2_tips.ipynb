{
 "cells": [
  {
   "cell_type": "code",
   "execution_count": 177,
   "id": "53aae93b",
   "metadata": {},
   "outputs": [],
   "source": [
    "import numpy as np\n",
    "import pandas as pd\n",
    "import matplotlib.pyplot as plt\n",
    "%matplotlib inline\n",
    "import seaborn as sns\n",
    "\n",
    "from sklearn.preprocessing import StandardScaler,MinMaxScaler,RobustScaler,OneHotEncoder,LabelEncoder\n",
    "from sklearn.model_selection import train_test_split,KFold,StratifiedKFold,RepeatedKFold,GridSearchCV,RandomizedSearchCV\n",
    "from sklearn.linear_model import LinearRegression,Ridge,RidgeCV,Lasso,LassoCV,ElasticNet,ElasticNetCV,LogisticRegression\n",
    "from sklearn.neighbors import KNeighborsClassifier,KNeighborsRegressor\n",
    "from sklearn.tree import DecisionTreeClassifier,DecisionTreeClassifier,plot_tree,export_text\n",
    "from sklearn.ensemble import RandomForestClassifier,RandomForestRegressor,ExtraTreesClassifier,ExtraTreesRegressor,BaggingClassifier\n",
    "from sklearn.ensemble import BaggingRegressor,AdaBoostClassifier,AdaBoostRegressor,GradientBoostingClassifier,GradientBoostingRegressor\n",
    "from catboost import CatBoostRegressor,CatBoostClassifier\n",
    "from xgboost import XGBClassifier,XGBRegressor\n",
    "from lightgbm import LGBMClassifier,LGBMRegressor\n",
    "from sklearn.svm import SVC,SVR,LinearSVC,LinearSVR\n",
    "from sklearn.naive_bayes import MultinomialNB,GaussianNB,BernoulliNB\n",
    "from sklearn.cluster import OPTICS,Birch,SpectralClustering,KMeans,MeanShift,MiniBatchKMeans,DBSCAN,AgglomerativeClustering\n",
    "from sklearn.decomposition import PCA\n",
    "from sklearn.discriminant_analysis import LinearDiscriminantAnalysis\n",
    "from sklearn.datasets import make_classification,load_iris"
   ]
  },
  {
   "cell_type": "code",
   "execution_count": 179,
   "id": "446a3ab4",
   "metadata": {},
   "outputs": [
    {
     "name": "stdout",
     "output_type": "stream",
     "text": [
      "   total_bill   tip     sex smoker  day    time  size\n",
      "0       16.99  1.01  Female     No  Sun  Dinner     2\n",
      "1       10.34  1.66    Male     No  Sun  Dinner     3\n",
      "2       21.01  3.50    Male     No  Sun  Dinner     3\n",
      "3       23.68  3.31    Male     No  Sun  Dinner     2\n",
      "4       24.59  3.61  Female     No  Sun  Dinner     4\n"
     ]
    }
   ],
   "source": [
    "df=sns.load_dataset('tips')\n",
    "print(df.head())"
   ]
  },
  {
   "cell_type": "code",
   "execution_count": 181,
   "id": "f6b48780",
   "metadata": {},
   "outputs": [],
   "source": [
    "le=LabelEncoder()\n",
    "df['time']=le.fit_transform(df['time'])"
   ]
  },
  {
   "cell_type": "code",
   "execution_count": 183,
   "id": "d2078ad6",
   "metadata": {},
   "outputs": [
    {
     "name": "stdout",
     "output_type": "stream",
     "text": [
      "   total_bill   tip     sex smoker  day  time  size\n",
      "0       16.99  1.01  Female     No  Sun     0     2\n",
      "1       10.34  1.66    Male     No  Sun     0     3\n",
      "2       21.01  3.50    Male     No  Sun     0     3\n",
      "3       23.68  3.31    Male     No  Sun     0     2\n",
      "4       24.59  3.61  Female     No  Sun     0     4\n"
     ]
    }
   ],
   "source": [
    "print(df.head())"
   ]
  },
  {
   "cell_type": "code",
   "execution_count": 185,
   "id": "0951ca1a",
   "metadata": {},
   "outputs": [],
   "source": [
    "y=df['time']\n",
    "X=df.drop('time',axis=1)"
   ]
  },
  {
   "cell_type": "code",
   "execution_count": 187,
   "id": "e10dccf2",
   "metadata": {},
   "outputs": [
    {
     "name": "stdout",
     "output_type": "stream",
     "text": [
      "(183, 6)\n",
      "(61, 6)\n",
      "(183,)\n",
      "(61,)\n"
     ]
    }
   ],
   "source": [
    "Xtr,Xte,ytr,yte=train_test_split(X,y,test_size=0.25,random_state=42)\n",
    "print(Xtr.shape)\n",
    "print(Xte.shape)\n",
    "print(ytr.shape)\n",
    "print(yte.shape)"
   ]
  },
  {
   "cell_type": "code",
   "execution_count": 189,
   "id": "35e8eac7",
   "metadata": {},
   "outputs": [],
   "source": [
    "cat_cols=['sex','smoker','day']\n",
    "from sklearn.compose import ColumnTransformer\n",
    "ct = ColumnTransformer(\n",
    "    transformers=[('onehot', OneHotEncoder(drop='first'), cat_cols)],\n",
    "    remainder='passthrough')"
   ]
  },
  {
   "cell_type": "code",
   "execution_count": 191,
   "id": "97923ce3",
   "metadata": {},
   "outputs": [],
   "source": [
    "from sklearn.pipeline import Pipeline\n",
    "model = Pipeline([\n",
    "    ('preprocess', ct),\n",
    "    ('classifier', BernoulliNB())\n",
    "])"
   ]
  },
  {
   "cell_type": "code",
   "execution_count": 193,
   "id": "cd56afc0",
   "metadata": {},
   "outputs": [
    {
     "name": "stdout",
     "output_type": "stream",
     "text": [
      "acc score 1.0\n",
      "classification report               precision    recall  f1-score   support\n",
      "\n",
      "           0       1.00      1.00      1.00        44\n",
      "           1       1.00      1.00      1.00        17\n",
      "\n",
      "    accuracy                           1.00        61\n",
      "   macro avg       1.00      1.00      1.00        61\n",
      "weighted avg       1.00      1.00      1.00        61\n",
      "\n"
     ]
    }
   ],
   "source": [
    "model.fit(Xtr,ytr)\n",
    "ypred=model.predict(Xte)\n",
    "\n",
    "acc_score=accuracy_score(yte,ypred)\n",
    "print(f\"acc score {acc_score}\")\n",
    "print(f\"classification report {classification_report(yte,ypred)}\")"
   ]
  },
  {
   "cell_type": "code",
   "execution_count": 195,
   "id": "7ac8655e",
   "metadata": {},
   "outputs": [
    {
     "name": "stdout",
     "output_type": "stream",
     "text": [
      "✅ Model saved!\n"
     ]
    }
   ],
   "source": [
    "import joblib\n",
    "\n",
    "# 💾 Save the trained pipeline (preprocessing + model)\n",
    "joblib.dump(model, 'tips_model1.joblib')\n",
    "print(\"✅ Model saved!\")"
   ]
  },
  {
   "cell_type": "code",
   "execution_count": 197,
   "id": "8810853c",
   "metadata": {},
   "outputs": [],
   "source": [
    "# 📦 Load the saved model\n",
    "loaded_model = joblib.load('tips_model1.joblib')"
   ]
  },
  {
   "cell_type": "code",
   "execution_count": 207,
   "id": "b00b623a",
   "metadata": {},
   "outputs": [],
   "source": [
    "test_data1= pd.DataFrame({\n",
    "    'total_bill': [10.9],\n",
    "    'tip': [1.98],\n",
    "    'sex':['Female'],\n",
    "    'smoker': ['No'],\n",
    "    'day':['Sun'],\n",
    "    'size':[3]\n",
    "})"
   ]
  },
  {
   "cell_type": "code",
   "execution_count": 209,
   "id": "06740ba8",
   "metadata": {},
   "outputs": [],
   "source": [
    "prediction=loaded_model.predict(test_data1)"
   ]
  },
  {
   "cell_type": "code",
   "execution_count": 211,
   "id": "e4e75578",
   "metadata": {},
   "outputs": [
    {
     "name": "stdout",
     "output_type": "stream",
     "text": [
      "prediction from loaded model [0]\n"
     ]
    }
   ],
   "source": [
    "print(f\"prediction from loaded model {prediction}\")"
   ]
  },
  {
   "cell_type": "code",
   "execution_count": null,
   "id": "6da31794",
   "metadata": {},
   "outputs": [],
   "source": []
  }
 ],
 "metadata": {
  "kernelspec": {
   "display_name": "base",
   "language": "python",
   "name": "python3"
  },
  "language_info": {
   "codemirror_mode": {
    "name": "ipython",
    "version": 3
   },
   "file_extension": ".py",
   "mimetype": "text/x-python",
   "name": "python",
   "nbconvert_exporter": "python",
   "pygments_lexer": "ipython3",
   "version": "3.12.7"
  }
 },
 "nbformat": 4,
 "nbformat_minor": 5
}
