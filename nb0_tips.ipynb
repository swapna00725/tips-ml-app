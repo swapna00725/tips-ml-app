{
 "cells": [
  {
   "cell_type": "code",
   "execution_count": 11,
   "id": "5e383650",
   "metadata": {},
   "outputs": [],
   "source": [
    "import numpy as np\n",
    "import pandas as pd\n",
    "import matplotlib.pyplot as plt\n",
    "%matplotlib inline\n",
    "import seaborn as sns\n",
    "\n",
    "from sklearn.preprocessing import StandardScaler,MinMaxScaler,RobustScaler,OneHotEncoder,LabelEncoder\n",
    "from sklearn.model_selection import train_test_split,KFold,StratifiedKFold,RepeatedKFold,GridSearchCV,RandomizedSearchCV\n",
    "from sklearn.linear_model import LinearRegression,Ridge,RidgeCV,Lasso,LassoCV,ElasticNet,ElasticNetCV,LogisticRegression\n",
    "from sklearn.neighbors import KNeighborsClassifier,KNeighborsRegressor\n",
    "from sklearn.tree import DecisionTreeClassifier,DecisionTreeClassifier,plot_tree,export_text\n",
    "from sklearn.ensemble import RandomForestClassifier,RandomForestRegressor,ExtraTreesClassifier,ExtraTreesRegressor,BaggingClassifier\n",
    "from sklearn.ensemble import BaggingRegressor,AdaBoostClassifier,AdaBoostRegressor,GradientBoostingClassifier,GradientBoostingRegressor\n",
    "from catboost import CatBoostRegressor,CatBoostClassifier\n",
    "from xgboost import XGBClassifier,XGBRegressor\n",
    "from lightgbm import LGBMClassifier,LGBMRegressor\n",
    "from sklearn.svm import SVC,SVR,LinearSVC,LinearSVR\n",
    "from sklearn.naive_bayes import MultinomialNB,GaussianNB,BernoulliNB\n",
    "from sklearn.cluster import OPTICS,Birch,SpectralClustering,KMeans,MeanShift,MiniBatchKMeans,DBSCAN,AgglomerativeClustering\n",
    "from sklearn.decomposition import PCA\n",
    "from sklearn.discriminant_analysis import LinearDiscriminantAnalysis\n",
    "from sklearn.datasets import make_classification,load_iris\n",
    "from sklearn.metrics import accuracy_score,classification_report"
   ]
  },
  {
   "cell_type": "code",
   "execution_count": 2,
   "id": "d03aa759",
   "metadata": {},
   "outputs": [
    {
     "name": "stdout",
     "output_type": "stream",
     "text": [
      "   total_bill   tip     sex smoker  day    time  size\n",
      "0       16.99  1.01  Female     No  Sun  Dinner     2\n",
      "1       10.34  1.66    Male     No  Sun  Dinner     3\n",
      "2       21.01  3.50    Male     No  Sun  Dinner     3\n",
      "3       23.68  3.31    Male     No  Sun  Dinner     2\n",
      "4       24.59  3.61  Female     No  Sun  Dinner     4\n"
     ]
    }
   ],
   "source": [
    "df=sns.load_dataset('tips')\n",
    "print(df.head())"
   ]
  },
  {
   "cell_type": "code",
   "execution_count": 3,
   "id": "322d11cd",
   "metadata": {},
   "outputs": [],
   "source": [
    "le=LabelEncoder()\n",
    "df['time']=le.fit_transform(df['time'])"
   ]
  },
  {
   "cell_type": "code",
   "execution_count": 4,
   "id": "ecc4f2d0",
   "metadata": {},
   "outputs": [],
   "source": [
    "y=df['time']\n",
    "X=df.drop('time',axis=1)"
   ]
  },
  {
   "cell_type": "code",
   "execution_count": 5,
   "id": "e71a544a",
   "metadata": {},
   "outputs": [],
   "source": [
    "Xtr,Xte,ytr,yte=train_test_split(X,y,test_size=0.25,random_state=42)"
   ]
  },
  {
   "cell_type": "code",
   "execution_count": 6,
   "id": "3aa75cea",
   "metadata": {},
   "outputs": [],
   "source": [
    "cat_cols=['sex','smoker','day']\n",
    "from sklearn.compose import ColumnTransformer\n",
    "ct = ColumnTransformer(\n",
    "    transformers=[('onehot', OneHotEncoder(drop='first'), cat_cols)],\n",
    "    remainder='passthrough')"
   ]
  },
  {
   "cell_type": "code",
   "execution_count": 7,
   "id": "45b051aa",
   "metadata": {},
   "outputs": [],
   "source": [
    "from sklearn.pipeline import Pipeline\n",
    "model = Pipeline([\n",
    "    ('preprocess', ct),\n",
    "    ('classifier', BernoulliNB())\n",
    "])"
   ]
  },
  {
   "cell_type": "code",
   "execution_count": 12,
   "id": "0c8bd858",
   "metadata": {},
   "outputs": [
    {
     "name": "stdout",
     "output_type": "stream",
     "text": [
      "acc score 1.0\n",
      "classification report               precision    recall  f1-score   support\n",
      "\n",
      "           0       1.00      1.00      1.00        44\n",
      "           1       1.00      1.00      1.00        17\n",
      "\n",
      "    accuracy                           1.00        61\n",
      "   macro avg       1.00      1.00      1.00        61\n",
      "weighted avg       1.00      1.00      1.00        61\n",
      "\n"
     ]
    }
   ],
   "source": [
    "model.fit(Xtr,ytr)\n",
    "ypred=model.predict(Xte)\n",
    "\n",
    "acc_score=accuracy_score(yte,ypred)\n",
    "print(f\"acc score {acc_score}\")\n",
    "print(f\"classification report {classification_report(yte,ypred)}\")"
   ]
  },
  {
   "cell_type": "code",
   "execution_count": null,
   "id": "e105fd8a",
   "metadata": {},
   "outputs": [],
   "source": []
  },
  {
   "cell_type": "code",
   "execution_count": null,
   "id": "d5f0941a",
   "metadata": {},
   "outputs": [],
   "source": []
  }
 ],
 "metadata": {
  "kernelspec": {
   "display_name": "base",
   "language": "python",
   "name": "python3"
  },
  "language_info": {
   "codemirror_mode": {
    "name": "ipython",
    "version": 3
   },
   "file_extension": ".py",
   "mimetype": "text/x-python",
   "name": "python",
   "nbconvert_exporter": "python",
   "pygments_lexer": "ipython3",
   "version": "3.12.7"
  }
 },
 "nbformat": 4,
 "nbformat_minor": 5
}
